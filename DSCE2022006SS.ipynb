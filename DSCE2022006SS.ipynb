{
 "cells": [
  {
   "cell_type": "code",
   "execution_count": 40,
   "id": "bdb47c52",
   "metadata": {},
   "outputs": [],
   "source": [
    "#importing libraries\n",
    "import numpy as np\n",
    "import matplotlib.pyplot as plt\n",
    "import pandas as pd\n",
    "import sklearn as sk\n",
    "import seaborn as sns\n",
    "%matplotlib inline\n",
    "import scipy.stats as ss\n"
   ]
  },
  {
   "cell_type": "markdown",
   "id": "ca376079",
   "metadata": {},
   "source": [
    "# QUESTION FOUR"
   ]
  },
  {
   "cell_type": "code",
   "execution_count": 3,
   "id": "01635a79",
   "metadata": {},
   "outputs": [
    {
     "data": {
      "text/plain": [
       "2661.6108980682593"
      ]
     },
     "execution_count": 3,
     "metadata": {},
     "output_type": "execute_result"
    }
   ],
   "source": [
    "##listing the variables and assigning them\n",
    "p =2100\n",
    "r =0.034\n",
    "t =7\n",
    "n =4\n",
    "v=??\n",
    "##using the formular of compound interest\n",
    "v = p*(1 + r/n)**(n*t)\n",
    "v\n",
    "##the balance after seven years will be 2661.6108980682593"
   ]
  },
  {
   "cell_type": "markdown",
   "id": "b34fd4b6",
   "metadata": {},
   "source": [
    "### question four a)"
   ]
  },
  {
   "cell_type": "code",
   "execution_count": 4,
   "id": "1073d7a0",
   "metadata": {},
   "outputs": [
    {
     "data": {
      "text/plain": [
       "2658.965091277534"
      ]
     },
     "execution_count": 4,
     "metadata": {},
     "output_type": "execute_result"
    }
   ],
   "source": [
    "### When interest is compounded twice per year that means n=2\n",
    "### so when we assign the variables it will look like this\n",
    "p=2100\n",
    "r=0.034\n",
    "t=7\n",
    "n=2\n",
    "### using the formular of getting compound interest\n",
    "v = p*(1 + r/n)**(n*t)\n",
    "v\n",
    "##so the total value after 7 years when inerest is compounded twice a year\n",
    "##will be 2658.965091277534"
   ]
  },
  {
   "cell_type": "markdown",
   "id": "fe6a06c3",
   "metadata": {},
   "source": [
    "### question four b)"
   ]
  },
  {
   "cell_type": "code",
   "execution_count": 10,
   "id": "d3adbd7d",
   "metadata": {},
   "outputs": [
    {
     "data": {
      "text/plain": [
       "2664.2888784026836"
      ]
     },
     "execution_count": 10,
     "metadata": {},
     "output_type": "execute_result"
    }
   ],
   "source": [
    "##to find the value of investment when interest is compunded continously\n",
    "##We use the formular\n",
    "#v = p*e**(r*t)\n",
    "##where\n",
    "#v is the total accumulated value\n",
    "#p  is the principle sum\n",
    "#e is the exponential and e is approximately equal to 2.71828\n",
    "#r is the interest rate\n",
    "#t is the time\n",
    "##so assigning the variables\n",
    "p=2100\n",
    "r=0.034\n",
    "t=7\n",
    "e=2.71828\n",
    "v = p*e**(r*t)\n",
    "v\n",
    "\n",
    "##the value of the investment is 2664.2888784026836 using continous compounding"
   ]
  },
  {
   "cell_type": "markdown",
   "id": "703765f9",
   "metadata": {},
   "source": [
    "# Question five"
   ]
  },
  {
   "cell_type": "code",
   "execution_count": 11,
   "id": "9c553f5c",
   "metadata": {},
   "outputs": [
    {
     "data": {
      "text/html": [
       "<div>\n",
       "<style scoped>\n",
       "    .dataframe tbody tr th:only-of-type {\n",
       "        vertical-align: middle;\n",
       "    }\n",
       "\n",
       "    .dataframe tbody tr th {\n",
       "        vertical-align: top;\n",
       "    }\n",
       "\n",
       "    .dataframe thead th {\n",
       "        text-align: right;\n",
       "    }\n",
       "</style>\n",
       "<table border=\"1\" class=\"dataframe\">\n",
       "  <thead>\n",
       "    <tr style=\"text-align: right;\">\n",
       "      <th></th>\n",
       "      <th>VendorID</th>\n",
       "      <th>tpep_pickup_datetime</th>\n",
       "      <th>tpep_dropoff_datetime</th>\n",
       "      <th>passenger_count</th>\n",
       "      <th>trip_distance</th>\n",
       "      <th>RatecodeID</th>\n",
       "      <th>store_and_fwd_flag</th>\n",
       "      <th>PULocationID</th>\n",
       "      <th>DOLocationID</th>\n",
       "      <th>payment_type</th>\n",
       "      <th>fare_amount</th>\n",
       "      <th>extra</th>\n",
       "      <th>mta_tax</th>\n",
       "      <th>tip_amount</th>\n",
       "      <th>tolls_amount</th>\n",
       "      <th>improvement_surcharge</th>\n",
       "      <th>total_amount</th>\n",
       "      <th>congestion_surcharge</th>\n",
       "    </tr>\n",
       "  </thead>\n",
       "  <tbody>\n",
       "    <tr>\n",
       "      <th>0</th>\n",
       "      <td>2</td>\n",
       "      <td>7/15/2019 16:27</td>\n",
       "      <td>7/15/2019 16:44</td>\n",
       "      <td>3</td>\n",
       "      <td>2.02</td>\n",
       "      <td>1</td>\n",
       "      <td>N</td>\n",
       "      <td>186</td>\n",
       "      <td>233</td>\n",
       "      <td>1</td>\n",
       "      <td>12.0</td>\n",
       "      <td>1.0</td>\n",
       "      <td>0.5</td>\n",
       "      <td>4.08</td>\n",
       "      <td>0.0</td>\n",
       "      <td>0.3</td>\n",
       "      <td>20.38</td>\n",
       "      <td>2.5</td>\n",
       "    </tr>\n",
       "    <tr>\n",
       "      <th>1</th>\n",
       "      <td>2</td>\n",
       "      <td>7/17/2019 20:26</td>\n",
       "      <td>7/17/2019 20:40</td>\n",
       "      <td>6</td>\n",
       "      <td>1.59</td>\n",
       "      <td>1</td>\n",
       "      <td>N</td>\n",
       "      <td>141</td>\n",
       "      <td>161</td>\n",
       "      <td>2</td>\n",
       "      <td>10.0</td>\n",
       "      <td>0.5</td>\n",
       "      <td>0.5</td>\n",
       "      <td>0.00</td>\n",
       "      <td>0.0</td>\n",
       "      <td>0.3</td>\n",
       "      <td>13.80</td>\n",
       "      <td>2.5</td>\n",
       "    </tr>\n",
       "    <tr>\n",
       "      <th>2</th>\n",
       "      <td>2</td>\n",
       "      <td>7/6/2019 16:01</td>\n",
       "      <td>7/6/2019 16:10</td>\n",
       "      <td>1</td>\n",
       "      <td>1.69</td>\n",
       "      <td>1</td>\n",
       "      <td>N</td>\n",
       "      <td>246</td>\n",
       "      <td>249</td>\n",
       "      <td>2</td>\n",
       "      <td>8.5</td>\n",
       "      <td>0.0</td>\n",
       "      <td>0.5</td>\n",
       "      <td>0.00</td>\n",
       "      <td>0.0</td>\n",
       "      <td>0.3</td>\n",
       "      <td>11.80</td>\n",
       "      <td>2.5</td>\n",
       "    </tr>\n",
       "    <tr>\n",
       "      <th>3</th>\n",
       "      <td>1</td>\n",
       "      <td>7/18/2019 22:32</td>\n",
       "      <td>7/18/2019 22:35</td>\n",
       "      <td>1</td>\n",
       "      <td>0.90</td>\n",
       "      <td>1</td>\n",
       "      <td>N</td>\n",
       "      <td>229</td>\n",
       "      <td>141</td>\n",
       "      <td>1</td>\n",
       "      <td>4.5</td>\n",
       "      <td>3.0</td>\n",
       "      <td>0.5</td>\n",
       "      <td>1.65</td>\n",
       "      <td>0.0</td>\n",
       "      <td>0.3</td>\n",
       "      <td>9.95</td>\n",
       "      <td>2.5</td>\n",
       "    </tr>\n",
       "    <tr>\n",
       "      <th>4</th>\n",
       "      <td>2</td>\n",
       "      <td>7/19/2019 14:54</td>\n",
       "      <td>7/19/2019 15:19</td>\n",
       "      <td>1</td>\n",
       "      <td>4.79</td>\n",
       "      <td>1</td>\n",
       "      <td>N</td>\n",
       "      <td>237</td>\n",
       "      <td>107</td>\n",
       "      <td>1</td>\n",
       "      <td>19.5</td>\n",
       "      <td>0.0</td>\n",
       "      <td>0.5</td>\n",
       "      <td>5.70</td>\n",
       "      <td>0.0</td>\n",
       "      <td>0.3</td>\n",
       "      <td>28.50</td>\n",
       "      <td>2.5</td>\n",
       "    </tr>\n",
       "    <tr>\n",
       "      <th>...</th>\n",
       "      <td>...</td>\n",
       "      <td>...</td>\n",
       "      <td>...</td>\n",
       "      <td>...</td>\n",
       "      <td>...</td>\n",
       "      <td>...</td>\n",
       "      <td>...</td>\n",
       "      <td>...</td>\n",
       "      <td>...</td>\n",
       "      <td>...</td>\n",
       "      <td>...</td>\n",
       "      <td>...</td>\n",
       "      <td>...</td>\n",
       "      <td>...</td>\n",
       "      <td>...</td>\n",
       "      <td>...</td>\n",
       "      <td>...</td>\n",
       "      <td>...</td>\n",
       "    </tr>\n",
       "    <tr>\n",
       "      <th>195</th>\n",
       "      <td>2</td>\n",
       "      <td>1/18/2019 8:42</td>\n",
       "      <td>1/18/2019 8:56</td>\n",
       "      <td>1</td>\n",
       "      <td>1.18</td>\n",
       "      <td>1</td>\n",
       "      <td>N</td>\n",
       "      <td>43</td>\n",
       "      <td>237</td>\n",
       "      <td>1</td>\n",
       "      <td>10.0</td>\n",
       "      <td>0.0</td>\n",
       "      <td>0.5</td>\n",
       "      <td>2.16</td>\n",
       "      <td>0.0</td>\n",
       "      <td>0.3</td>\n",
       "      <td>12.96</td>\n",
       "      <td>0.0</td>\n",
       "    </tr>\n",
       "    <tr>\n",
       "      <th>196</th>\n",
       "      <td>1</td>\n",
       "      <td>1/19/2019 4:34</td>\n",
       "      <td>1/19/2019 4:43</td>\n",
       "      <td>1</td>\n",
       "      <td>2.30</td>\n",
       "      <td>1</td>\n",
       "      <td>N</td>\n",
       "      <td>148</td>\n",
       "      <td>234</td>\n",
       "      <td>1</td>\n",
       "      <td>9.5</td>\n",
       "      <td>0.5</td>\n",
       "      <td>0.5</td>\n",
       "      <td>2.15</td>\n",
       "      <td>0.0</td>\n",
       "      <td>0.3</td>\n",
       "      <td>12.95</td>\n",
       "      <td>0.0</td>\n",
       "    </tr>\n",
       "    <tr>\n",
       "      <th>197</th>\n",
       "      <td>2</td>\n",
       "      <td>1/5/2019 10:37</td>\n",
       "      <td>1/5/2019 10:42</td>\n",
       "      <td>1</td>\n",
       "      <td>0.83</td>\n",
       "      <td>1</td>\n",
       "      <td>N</td>\n",
       "      <td>237</td>\n",
       "      <td>263</td>\n",
       "      <td>1</td>\n",
       "      <td>5.0</td>\n",
       "      <td>0.0</td>\n",
       "      <td>0.5</td>\n",
       "      <td>1.16</td>\n",
       "      <td>0.0</td>\n",
       "      <td>0.3</td>\n",
       "      <td>6.96</td>\n",
       "      <td>0.0</td>\n",
       "    </tr>\n",
       "    <tr>\n",
       "      <th>198</th>\n",
       "      <td>2</td>\n",
       "      <td>1/23/2019 10:36</td>\n",
       "      <td>1/23/2019 10:44</td>\n",
       "      <td>2</td>\n",
       "      <td>1.12</td>\n",
       "      <td>1</td>\n",
       "      <td>N</td>\n",
       "      <td>144</td>\n",
       "      <td>113</td>\n",
       "      <td>2</td>\n",
       "      <td>7.0</td>\n",
       "      <td>0.0</td>\n",
       "      <td>0.5</td>\n",
       "      <td>0.00</td>\n",
       "      <td>0.0</td>\n",
       "      <td>0.3</td>\n",
       "      <td>7.80</td>\n",
       "      <td>0.0</td>\n",
       "    </tr>\n",
       "    <tr>\n",
       "      <th>199</th>\n",
       "      <td>2</td>\n",
       "      <td>1/30/2019 6:55</td>\n",
       "      <td>1/30/2019 7:07</td>\n",
       "      <td>5</td>\n",
       "      <td>2.41</td>\n",
       "      <td>1</td>\n",
       "      <td>N</td>\n",
       "      <td>209</td>\n",
       "      <td>107</td>\n",
       "      <td>1</td>\n",
       "      <td>10.5</td>\n",
       "      <td>0.0</td>\n",
       "      <td>0.5</td>\n",
       "      <td>1.00</td>\n",
       "      <td>0.0</td>\n",
       "      <td>0.3</td>\n",
       "      <td>12.30</td>\n",
       "      <td>0.0</td>\n",
       "    </tr>\n",
       "  </tbody>\n",
       "</table>\n",
       "<p>200 rows × 18 columns</p>\n",
       "</div>"
      ],
      "text/plain": [
       "     VendorID tpep_pickup_datetime tpep_dropoff_datetime  passenger_count  \\\n",
       "0           2      7/15/2019 16:27       7/15/2019 16:44                3   \n",
       "1           2      7/17/2019 20:26       7/17/2019 20:40                6   \n",
       "2           2       7/6/2019 16:01        7/6/2019 16:10                1   \n",
       "3           1      7/18/2019 22:32       7/18/2019 22:35                1   \n",
       "4           2      7/19/2019 14:54       7/19/2019 15:19                1   \n",
       "..        ...                  ...                   ...              ...   \n",
       "195         2       1/18/2019 8:42        1/18/2019 8:56                1   \n",
       "196         1       1/19/2019 4:34        1/19/2019 4:43                1   \n",
       "197         2       1/5/2019 10:37        1/5/2019 10:42                1   \n",
       "198         2      1/23/2019 10:36       1/23/2019 10:44                2   \n",
       "199         2       1/30/2019 6:55        1/30/2019 7:07                5   \n",
       "\n",
       "     trip_distance  RatecodeID store_and_fwd_flag  PULocationID  DOLocationID  \\\n",
       "0             2.02           1                  N           186           233   \n",
       "1             1.59           1                  N           141           161   \n",
       "2             1.69           1                  N           246           249   \n",
       "3             0.90           1                  N           229           141   \n",
       "4             4.79           1                  N           237           107   \n",
       "..             ...         ...                ...           ...           ...   \n",
       "195           1.18           1                  N            43           237   \n",
       "196           2.30           1                  N           148           234   \n",
       "197           0.83           1                  N           237           263   \n",
       "198           1.12           1                  N           144           113   \n",
       "199           2.41           1                  N           209           107   \n",
       "\n",
       "     payment_type  fare_amount  extra  mta_tax  tip_amount  tolls_amount  \\\n",
       "0               1         12.0    1.0      0.5        4.08           0.0   \n",
       "1               2         10.0    0.5      0.5        0.00           0.0   \n",
       "2               2          8.5    0.0      0.5        0.00           0.0   \n",
       "3               1          4.5    3.0      0.5        1.65           0.0   \n",
       "4               1         19.5    0.0      0.5        5.70           0.0   \n",
       "..            ...          ...    ...      ...         ...           ...   \n",
       "195             1         10.0    0.0      0.5        2.16           0.0   \n",
       "196             1          9.5    0.5      0.5        2.15           0.0   \n",
       "197             1          5.0    0.0      0.5        1.16           0.0   \n",
       "198             2          7.0    0.0      0.5        0.00           0.0   \n",
       "199             1         10.5    0.0      0.5        1.00           0.0   \n",
       "\n",
       "     improvement_surcharge  total_amount  congestion_surcharge  \n",
       "0                      0.3         20.38                   2.5  \n",
       "1                      0.3         13.80                   2.5  \n",
       "2                      0.3         11.80                   2.5  \n",
       "3                      0.3          9.95                   2.5  \n",
       "4                      0.3         28.50                   2.5  \n",
       "..                     ...           ...                   ...  \n",
       "195                    0.3         12.96                   0.0  \n",
       "196                    0.3         12.95                   0.0  \n",
       "197                    0.3          6.96                   0.0  \n",
       "198                    0.3          7.80                   0.0  \n",
       "199                    0.3         12.30                   0.0  \n",
       "\n",
       "[200 rows x 18 columns]"
      ]
     },
     "execution_count": 11,
     "metadata": {},
     "output_type": "execute_result"
    }
   ],
   "source": [
    "## importing the taxi_2 dataset\n",
    "df =pd.read_csv(\"taxi.csv\")\n",
    "df"
   ]
  },
  {
   "cell_type": "code",
   "execution_count": 12,
   "id": "6c84cc0b",
   "metadata": {},
   "outputs": [
    {
     "data": {
      "text/plain": [
       "Index(['VendorID', 'tpep_pickup_datetime', 'tpep_dropoff_datetime',\n",
       "       'passenger_count', 'trip_distance', 'RatecodeID', 'store_and_fwd_flag',\n",
       "       'PULocationID', 'DOLocationID', 'payment_type', 'fare_amount', 'extra',\n",
       "       'mta_tax', 'tip_amount', 'tolls_amount', 'improvement_surcharge',\n",
       "       'total_amount', 'congestion_surcharge'],\n",
       "      dtype='object')"
      ]
     },
     "execution_count": 12,
     "metadata": {},
     "output_type": "execute_result"
    }
   ],
   "source": [
    "df.columns"
   ]
  },
  {
   "cell_type": "code",
   "execution_count": 13,
   "id": "fe726dbe",
   "metadata": {},
   "outputs": [
    {
     "data": {
      "text/plain": [
       "0      3\n",
       "1      6\n",
       "2      1\n",
       "3      1\n",
       "4      1\n",
       "      ..\n",
       "195    1\n",
       "196    1\n",
       "197    1\n",
       "198    2\n",
       "199    5\n",
       "Name: passenger_count, Length: 200, dtype: int64"
      ]
     },
     "execution_count": 13,
     "metadata": {},
     "output_type": "execute_result"
    }
   ],
   "source": [
    "##defining the variables to use\n",
    "t = df.passenger_count\n",
    "t"
   ]
  },
  {
   "cell_type": "code",
   "execution_count": 16,
   "id": "76d56df9",
   "metadata": {},
   "outputs": [
    {
     "data": {
      "text/plain": [
       "[<matplotlib.lines.Line2D at 0x2aaebf79e20>]"
      ]
     },
     "execution_count": 16,
     "metadata": {},
     "output_type": "execute_result"
    },
    {
     "data": {
      "image/png": "[encoded data removed]",
      "text/plain": [
       "<Figure size 432x288 with 1 Axes>"
      ]
     },
     "metadata": {
      "needs_background": "light"
     },
     "output_type": "display_data"
    }
   ],
   "source": [
    "plt.plot(t)"
   ]
  },
  {
   "cell_type": "code",
   "execution_count": 19,
   "id": "040a1ef0",
   "metadata": {},
   "outputs": [
    {
     "data": {
      "text/plain": [
       "0      12.0\n",
       "1      10.0\n",
       "2       8.5\n",
       "3       4.5\n",
       "4      19.5\n",
       "       ... \n",
       "195    10.0\n",
       "196     9.5\n",
       "197     5.0\n",
       "198     7.0\n",
       "199    10.5\n",
       "Name: fare_amount, Length: 200, dtype: float64"
      ]
     },
     "execution_count": 19,
     "metadata": {},
     "output_type": "execute_result"
    }
   ],
   "source": [
    "k = df.fare_amount\n",
    "k"
   ]
  },
  {
   "cell_type": "code",
   "execution_count": 20,
   "id": "9b0286d5",
   "metadata": {},
   "outputs": [
    {
     "data": {
      "text/plain": [
       "[<matplotlib.lines.Line2D at 0x2aaec4beac0>]"
      ]
     },
     "execution_count": 20,
     "metadata": {},
     "output_type": "execute_result"
    },
    {
     "data": {
      "image/png": "[encoded data removed]",
      "text/plain": [
       "<Figure size 432x288 with 1 Axes>"
      ]
     },
     "metadata": {
      "needs_background": "light"
     },
     "output_type": "display_data"
    }
   ],
   "source": [
    "plt.plot(k)"
   ]
  },
  {
   "cell_type": "code",
   "execution_count": 21,
   "id": "c9617eef",
   "metadata": {},
   "outputs": [
    {
     "data": {
      "image/png": "[encoded data removed]",
      "text/plain": [
       "<Figure size 432x288 with 1 Axes>"
      ]
     },
     "metadata": {
      "needs_background": "light"
     },
     "output_type": "display_data"
    }
   ],
   "source": [
    "plt.plot(t,k,'o');\n",
    "plt.xlabel(\"Passenger count\");\n",
    "plt.ylabel(\"fare_amount\");\n",
    "plt.title('Scatter diagram of Passenger count and fare_amount');\n"
   ]
  },
  {
   "cell_type": "code",
   "execution_count": null,
   "id": "1e8b79b4",
   "metadata": {},
   "outputs": [],
   "source": [
    "##the scatter graph shows"
   ]
  },
  {
   "cell_type": "code",
   "execution_count": 23,
   "id": "cffb95a0",
   "metadata": {},
   "outputs": [
    {
     "data": {
      "text/plain": [
       "0      2.02\n",
       "1      1.59\n",
       "2      1.69\n",
       "3      0.90\n",
       "4      4.79\n",
       "       ... \n",
       "195    1.18\n",
       "196    2.30\n",
       "197    0.83\n",
       "198    1.12\n",
       "199    2.41\n",
       "Name: trip_distance, Length: 200, dtype: float64"
      ]
     },
     "execution_count": 23,
     "metadata": {},
     "output_type": "execute_result"
    }
   ],
   "source": [
    "r=df.trip_distance\n",
    "r"
   ]
  },
  {
   "cell_type": "code",
   "execution_count": 24,
   "id": "98adf2d9",
   "metadata": {},
   "outputs": [
    {
     "data": {
      "text/plain": [
       "0      1\n",
       "1      2\n",
       "2      2\n",
       "3      1\n",
       "4      1\n",
       "      ..\n",
       "195    1\n",
       "196    1\n",
       "197    1\n",
       "198    2\n",
       "199    1\n",
       "Name: payment_type, Length: 200, dtype: int64"
      ]
     },
     "execution_count": 24,
     "metadata": {},
     "output_type": "execute_result"
    }
   ],
   "source": [
    "s=df.payment_type\n",
    "s"
   ]
  },
  {
   "cell_type": "code",
   "execution_count": 25,
   "id": "e0ef8b18",
   "metadata": {},
   "outputs": [
    {
     "data": {
      "text/plain": [
       "[<matplotlib.lines.Line2D at 0x2aaec5a41f0>]"
      ]
     },
     "execution_count": 25,
     "metadata": {},
     "output_type": "execute_result"
    },
    {
     "data": {
      "image/png": "[encoded data removed]",
      "text/plain": [
       "<Figure size 432x288 with 1 Axes>"
      ]
     },
     "metadata": {
      "needs_background": "light"
     },
     "output_type": "display_data"
    }
   ],
   "source": [
    "plt.plot(r)"
   ]
  },
  {
   "cell_type": "code",
   "execution_count": 26,
   "id": "8a71d0ab",
   "metadata": {},
   "outputs": [
    {
     "data": {
      "text/plain": [
       "[<matplotlib.lines.Line2D at 0x2aaed5cec10>]"
      ]
     },
     "execution_count": 26,
     "metadata": {},
     "output_type": "execute_result"
    },
    {
     "data": {
      "image/png": "[encoded data removed]",
      "text/plain": [
       "<Figure size 432x288 with 1 Axes>"
      ]
     },
     "metadata": {
      "needs_background": "light"
     },
     "output_type": "display_data"
    }
   ],
   "source": [
    "plt.plot(s)"
   ]
  },
  {
   "cell_type": "code",
   "execution_count": 27,
   "id": "7293c942",
   "metadata": {},
   "outputs": [
    {
     "data": {
      "image/png": "[encoded data removed]",
      "text/plain": [
       "<Figure size 432x288 with 1 Axes>"
      ]
     },
     "metadata": {
      "needs_background": "light"
     },
     "output_type": "display_data"
    }
   ],
   "source": [
    "plt.plot(r,s,'o');\n",
    "plt.xlabel(\"trip distance\");\n",
    "plt.ylabel(\"Payment type\");\n",
    "plt.title('Scatter diagram of Trip distance and Payment type');\n"
   ]
  },
  {
   "cell_type": "code",
   "execution_count": null,
   "id": "7c372639",
   "metadata": {},
   "outputs": [],
   "source": [
    "##the scatter plot is used to \n",
    "##visualise the relationship btw 2 variables trip distance and payment type"
   ]
  },
  {
   "cell_type": "code",
   "execution_count": 22,
   "id": "0d81bed5",
   "metadata": {},
   "outputs": [
    {
     "data": {
      "text/plain": [
       "Intercept    1.603397\n",
       "k           -0.002818\n",
       "dtype: float64"
      ]
     },
     "execution_count": 22,
     "metadata": {},
     "output_type": "execute_result"
    }
   ],
   "source": [
    "##implementing simple linear regresssion\n",
    "# simple linear regression helps us to find out the relationship between\n",
    "#the independent and the dependent variables \n",
    "#for this case we shall test using passenger count and trip distance\n",
    "#before we import the library\n",
    "import statsmodels.formula.api as smf\n",
    "results = smf.ols('t~ k', data=df).fit()\n",
    "results.params"
   ]
  },
  {
   "cell_type": "code",
   "execution_count": null,
   "id": "a83bb6fa",
   "metadata": {},
   "outputs": [],
   "source": [
    "#for simple linear regression \n",
    "#y=mx+c ? = -0.01x +1.6 if there is  decrease in the  number of pasenger count\n",
    "#the the fare_amount will decrease by 1 then"
   ]
  },
  {
   "cell_type": "code",
   "execution_count": 28,
   "id": "595ba9de",
   "metadata": {},
   "outputs": [
    {
     "data": {
      "text/plain": [
       "Intercept    0.819528\n",
       "r            0.022188\n",
       "s            0.620672\n",
       "k           -0.009079\n",
       "dtype: float64"
      ]
     },
     "execution_count": 28,
     "metadata": {},
     "output_type": "execute_result"
    }
   ],
   "source": [
    "# fitting multiple linear regression\n",
    "results = smf.ols(\"t ~ r +s + k\", data=df).fit()\n",
    "results.params"
   ]
  },
  {
   "cell_type": "code",
   "execution_count": null,
   "id": "ffa19c1e",
   "metadata": {},
   "outputs": [],
   "source": [
    "y=c+ mx1 +mx2 +mx3 \n",
    "y = the predicted value of the dependent variable\n",
    "mx1 = the y-intercept (value of y when all other parameters are set to 0)\n",
    "B_1X_1 = the regression coefficient (B_1) of the first independent variable (X_1) (a.k.a. the effect that increasing the value of the independent variable has on the predicted y value)\n",
    "… = do the same for however many independent variables you are testing\n",
    "B_nX_n = the regression coefficient of the last independent variable\n"
   ]
  },
  {
   "cell_type": "code",
   "execution_count": 123,
   "id": "0711d31d",
   "metadata": {},
   "outputs": [],
   "source": [
    "##chosing a class of modelling\n",
    "#importing the linear Regression class of the model\n",
    "from sklearn.linear_model import LinearRegression"
   ]
  },
  {
   "cell_type": "code",
   "execution_count": 122,
   "id": "35aae710",
   "metadata": {},
   "outputs": [],
   "source": [
    "#Training_model\n",
    "Training_model = LinearRegression(fit_intercept = True) \n"
   ]
  },
  {
   "cell_type": "code",
   "execution_count": 124,
   "id": "a684ad80",
   "metadata": {},
   "outputs": [
    {
     "data": {
      "text/plain": [
       "array([[0.47654633],\n",
       "       [0.47606826],\n",
       "       [0.47559021],\n",
       "       [0.47511221],\n",
       "       [0.47463423],\n",
       "       [0.4741563 ],\n",
       "       [0.4736784 ],\n",
       "       [0.47320054],\n",
       "       [0.47272272],\n",
       "       [0.47224493],\n",
       "       [0.47176719],\n",
       "       [0.47128949],\n",
       "       [0.47081183],\n",
       "       [0.47033421],\n",
       "       [0.46985663],\n",
       "       [0.4693791 ],\n",
       "       [0.46890161],\n",
       "       [0.46842417],\n",
       "       [0.46794677],\n",
       "       [0.46746942],\n",
       "       [0.46699211],\n",
       "       [0.46651485],\n",
       "       [0.46603764],\n",
       "       [0.46556048],\n",
       "       [0.46508337],\n",
       "       [0.46460631],\n",
       "       [0.4641293 ],\n",
       "       [0.46365234],\n",
       "       [0.46317543],\n",
       "       [0.46269858],\n",
       "       [0.46222178],\n",
       "       [0.46174503],\n",
       "       [0.46126834],\n",
       "       [0.4607917 ],\n",
       "       [0.46031513],\n",
       "       [0.4598386 ],\n",
       "       [0.45936214],\n",
       "       [0.45888573],\n",
       "       [0.45840939],\n",
       "       [0.4579331 ],\n",
       "       [0.45745687],\n",
       "       [0.45698071],\n",
       "       [0.4565046 ],\n",
       "       [0.45602856],\n",
       "       [0.45555258],\n",
       "       [0.45507667],\n",
       "       [0.45460082],\n",
       "       [0.45412503],\n",
       "       [0.45364931],\n",
       "       [0.45317366]])"
      ]
     },
     "execution_count": 124,
     "metadata": {},
     "output_type": "execute_result"
    }
   ],
   "source": [
    "#slicing\n",
    "t = t[:,np.newaxis]\n",
    "t\n"
   ]
  },
  {
   "cell_type": "code",
   "execution_count": 126,
   "id": "0db9090c",
   "metadata": {},
   "outputs": [
    {
     "name": "stderr",
     "output_type": "stream",
     "text": [
      "C:\\Users\\Sharon\\AppData\\Local\\Temp\\ipykernel_13600\\3263879388.py:2: FutureWarning: Support for multi-dimensional indexing (e.g. `obj[:, None]`) is deprecated and will be removed in a future version.  Convert to a numpy array before indexing instead.\n",
      "  t = k[:,np.newaxis]\n"
     ]
    },
    {
     "data": {
      "text/plain": [
       "array([[ 12. ],\n",
       "       [ 10. ],\n",
       "       [  8.5],\n",
       "       [  4.5],\n",
       "       [ 19.5],\n",
       "       [ 23. ],\n",
       "       [ 11. ],\n",
       "       [  6.5],\n",
       "       [ 13. ],\n",
       "       [  9. ],\n",
       "       [  5.5],\n",
       "       [  7.5],\n",
       "       [ 11. ],\n",
       "       [ 13. ],\n",
       "       [  5. ],\n",
       "       [  8. ],\n",
       "       [ 25. ],\n",
       "       [  4.5],\n",
       "       [ 14.5],\n",
       "       [ 14.5],\n",
       "       [ 26. ],\n",
       "       [  4. ],\n",
       "       [  5. ],\n",
       "       [ 11. ],\n",
       "       [ 19.5],\n",
       "       [  9.5],\n",
       "       [  6. ],\n",
       "       [  6. ],\n",
       "       [  9. ],\n",
       "       [ 18.5],\n",
       "       [  6. ],\n",
       "       [ 15.5],\n",
       "       [ 25. ],\n",
       "       [  7. ],\n",
       "       [  6. ],\n",
       "       [  9.5],\n",
       "       [120. ],\n",
       "       [ 21.5],\n",
       "       [  7. ],\n",
       "       [  7.5],\n",
       "       [ 46.5],\n",
       "       [ 14.5],\n",
       "       [ 17. ],\n",
       "       [ 20. ],\n",
       "       [ 46. ],\n",
       "       [ 10. ],\n",
       "       [  7. ],\n",
       "       [ 11. ],\n",
       "       [  3.5],\n",
       "       [  8.5],\n",
       "       [ 24. ],\n",
       "       [ 29.5],\n",
       "       [  7.5],\n",
       "       [ 10.5],\n",
       "       [ 32.5],\n",
       "       [  6. ],\n",
       "       [ 18. ],\n",
       "       [  8. ],\n",
       "       [ 10.5],\n",
       "       [  5.5],\n",
       "       [  8.5],\n",
       "       [ 18.5],\n",
       "       [  8.5],\n",
       "       [  5. ],\n",
       "       [  7. ],\n",
       "       [ 11. ],\n",
       "       [ 13.5],\n",
       "       [ 11. ],\n",
       "       [  8.5],\n",
       "       [ 13.5],\n",
       "       [  7. ],\n",
       "       [  8.5],\n",
       "       [ 52. ],\n",
       "       [ 68. ],\n",
       "       [ 19.5],\n",
       "       [  4.5],\n",
       "       [ 11. ],\n",
       "       [ 17. ],\n",
       "       [  8.5],\n",
       "       [ 16.5],\n",
       "       [ 22.5],\n",
       "       [  5. ],\n",
       "       [ 12.5],\n",
       "       [ 16.5],\n",
       "       [  5. ],\n",
       "       [  9. ],\n",
       "       [  9.5],\n",
       "       [  7. ],\n",
       "       [ 24.5],\n",
       "       [ 15. ],\n",
       "       [ 14.5],\n",
       "       [  5.5],\n",
       "       [  7. ],\n",
       "       [ 22.5],\n",
       "       [ 56.5],\n",
       "       [  9.5],\n",
       "       [  7.5],\n",
       "       [  9. ],\n",
       "       [ 23. ],\n",
       "       [ 49. ],\n",
       "       [  5.5],\n",
       "       [  6.5],\n",
       "       [  6.5],\n",
       "       [ 10. ],\n",
       "       [  4. ],\n",
       "       [ 25. ],\n",
       "       [ 15. ],\n",
       "       [  4. ],\n",
       "       [ 54. ],\n",
       "       [  9.5],\n",
       "       [  6.5],\n",
       "       [  5.5],\n",
       "       [ 12.5],\n",
       "       [ 14.5],\n",
       "       [  3.5],\n",
       "       [ 42.5],\n",
       "       [  8. ],\n",
       "       [  8.5],\n",
       "       [  4. ],\n",
       "       [  6.5],\n",
       "       [  9.5],\n",
       "       [ 56. ],\n",
       "       [  5. ],\n",
       "       [  5. ],\n",
       "       [  9.5],\n",
       "       [ 52. ],\n",
       "       [  9. ],\n",
       "       [ 25.5],\n",
       "       [ 28. ],\n",
       "       [ 13.5],\n",
       "       [ 43.5],\n",
       "       [  7. ],\n",
       "       [  7. ],\n",
       "       [ 52. ],\n",
       "       [ 52. ],\n",
       "       [  6. ],\n",
       "       [  3. ],\n",
       "       [ 10.5],\n",
       "       [  4.5],\n",
       "       [  8.5],\n",
       "       [  7. ],\n",
       "       [ 10.5],\n",
       "       [  6.5],\n",
       "       [ 18. ],\n",
       "       [  6.5],\n",
       "       [  9.5],\n",
       "       [  7. ],\n",
       "       [  8. ],\n",
       "       [  4.5],\n",
       "       [  5.5],\n",
       "       [  7. ],\n",
       "       [ 12.5],\n",
       "       [  7. ],\n",
       "       [ 63.5],\n",
       "       [ 52. ],\n",
       "       [ 52. ],\n",
       "       [ 13. ],\n",
       "       [ 25. ],\n",
       "       [  9. ],\n",
       "       [  4.5],\n",
       "       [  5. ],\n",
       "       [ 31.5],\n",
       "       [  8.5],\n",
       "       [ 11.5],\n",
       "       [  6. ],\n",
       "       [  6.5],\n",
       "       [ 29. ],\n",
       "       [ 13.5],\n",
       "       [ 14.5],\n",
       "       [ 22. ],\n",
       "       [  9. ],\n",
       "       [ 15. ],\n",
       "       [  7.5],\n",
       "       [  7.5],\n",
       "       [ 16. ],\n",
       "       [  4.5],\n",
       "       [  6.5],\n",
       "       [  9.5],\n",
       "       [ 21.5],\n",
       "       [ 15. ],\n",
       "       [ 10. ],\n",
       "       [  6.5],\n",
       "       [  9.5],\n",
       "       [ 10.5],\n",
       "       [  8. ],\n",
       "       [ 14. ],\n",
       "       [ 34.5],\n",
       "       [ 12. ],\n",
       "       [  6.5],\n",
       "       [ 12.5],\n",
       "       [ 15. ],\n",
       "       [ 26. ],\n",
       "       [ 19.5],\n",
       "       [  5.5],\n",
       "       [ 52. ],\n",
       "       [ 10. ],\n",
       "       [  9.5],\n",
       "       [  5. ],\n",
       "       [  7. ],\n",
       "       [ 10.5]])"
      ]
     },
     "execution_count": 126,
     "metadata": {},
     "output_type": "execute_result"
    }
   ],
   "source": [
    "#fiting the model\n",
    "t = k[:,np.newaxis]\n",
    "t"
   ]
  },
  {
   "cell_type": "code",
   "execution_count": 127,
   "id": "2949da87",
   "metadata": {},
   "outputs": [
    {
     "data": {
      "text/plain": [
       "LinearRegression()"
      ]
     },
     "execution_count": 127,
     "metadata": {},
     "output_type": "execute_result"
    }
   ],
   "source": [
    "##training the model\n",
    "Training_model.fit(t,k)"
   ]
  },
  {
   "cell_type": "code",
   "execution_count": 128,
   "id": "669f9ff2",
   "metadata": {},
   "outputs": [
    {
     "data": {
      "text/plain": [
       "array([1.])"
      ]
     },
     "execution_count": 128,
     "metadata": {},
     "output_type": "execute_result"
    }
   ],
   "source": [
    "#finding the coefficient\n",
    "Training_model.coef_"
   ]
  },
  {
   "cell_type": "code",
   "execution_count": 129,
   "id": "b6d59f3e",
   "metadata": {},
   "outputs": [
    {
     "data": {
      "text/plain": [
       "-7.105427357601002e-15"
      ]
     },
     "execution_count": 129,
     "metadata": {},
     "output_type": "execute_result"
    }
   ],
   "source": [
    "#finding the intercept\n",
    "Training_model.intercept_"
   ]
  },
  {
   "cell_type": "code",
   "execution_count": 130,
   "id": "ab655f6c",
   "metadata": {},
   "outputs": [
    {
     "data": {
      "text/plain": [
       "array([  -1.        ,   19.42857143,   39.85714286,   60.28571429,\n",
       "         80.71428571,  101.14285714,  121.57142857,  142.        ,\n",
       "        162.42857143,  182.85714286,  203.28571429,  223.71428571,\n",
       "        244.14285714,  264.57142857,  285.        ,  305.42857143,\n",
       "        325.85714286,  346.28571429,  366.71428571,  387.14285714,\n",
       "        407.57142857,  428.        ,  448.42857143,  468.85714286,\n",
       "        489.28571429,  509.71428571,  530.14285714,  550.57142857,\n",
       "        571.        ,  591.42857143,  611.85714286,  632.28571429,\n",
       "        652.71428571,  673.14285714,  693.57142857,  714.        ,\n",
       "        734.42857143,  754.85714286,  775.28571429,  795.71428571,\n",
       "        816.14285714,  836.57142857,  857.        ,  877.42857143,\n",
       "        897.85714286,  918.28571429,  938.71428571,  959.14285714,\n",
       "        979.57142857, 1000.        ])"
      ]
     },
     "execution_count": 130,
     "metadata": {},
     "output_type": "execute_result"
    }
   ],
   "source": [
    "trip_distance = np.linspace(-1,1000)\n",
    "trip_distance"
   ]
  },
  {
   "cell_type": "code",
   "execution_count": 131,
   "id": "6ecba022",
   "metadata": {},
   "outputs": [
    {
     "data": {
      "text/plain": [
       "array([[  -1.        ],\n",
       "       [  19.42857143],\n",
       "       [  39.85714286],\n",
       "       [  60.28571429],\n",
       "       [  80.71428571],\n",
       "       [ 101.14285714],\n",
       "       [ 121.57142857],\n",
       "       [ 142.        ],\n",
       "       [ 162.42857143],\n",
       "       [ 182.85714286],\n",
       "       [ 203.28571429],\n",
       "       [ 223.71428571],\n",
       "       [ 244.14285714],\n",
       "       [ 264.57142857],\n",
       "       [ 285.        ],\n",
       "       [ 305.42857143],\n",
       "       [ 325.85714286],\n",
       "       [ 346.28571429],\n",
       "       [ 366.71428571],\n",
       "       [ 387.14285714],\n",
       "       [ 407.57142857],\n",
       "       [ 428.        ],\n",
       "       [ 448.42857143],\n",
       "       [ 468.85714286],\n",
       "       [ 489.28571429],\n",
       "       [ 509.71428571],\n",
       "       [ 530.14285714],\n",
       "       [ 550.57142857],\n",
       "       [ 571.        ],\n",
       "       [ 591.42857143],\n",
       "       [ 611.85714286],\n",
       "       [ 632.28571429],\n",
       "       [ 652.71428571],\n",
       "       [ 673.14285714],\n",
       "       [ 693.57142857],\n",
       "       [ 714.        ],\n",
       "       [ 734.42857143],\n",
       "       [ 754.85714286],\n",
       "       [ 775.28571429],\n",
       "       [ 795.71428571],\n",
       "       [ 816.14285714],\n",
       "       [ 836.57142857],\n",
       "       [ 857.        ],\n",
       "       [ 877.42857143],\n",
       "       [ 897.85714286],\n",
       "       [ 918.28571429],\n",
       "       [ 938.71428571],\n",
       "       [ 959.14285714],\n",
       "       [ 979.57142857],\n",
       "       [1000.        ]])"
      ]
     },
     "execution_count": 131,
     "metadata": {},
     "output_type": "execute_result"
    }
   ],
   "source": [
    "trip_distance = trip_distance[:,np.newaxis]\n",
    "trip_distance"
   ]
  },
  {
   "cell_type": "code",
   "execution_count": 132,
   "id": "08eb2b22",
   "metadata": {},
   "outputs": [
    {
     "data": {
      "text/plain": [
       "array([  -1.        ,   19.42857143,   39.85714286,   60.28571429,\n",
       "         80.71428571,  101.14285714,  121.57142857,  142.        ,\n",
       "        162.42857143,  182.85714286,  203.28571429,  223.71428571,\n",
       "        244.14285714,  264.57142857,  285.        ,  305.42857143,\n",
       "        325.85714286,  346.28571429,  366.71428571,  387.14285714,\n",
       "        407.57142857,  428.        ,  448.42857143,  468.85714286,\n",
       "        489.28571429,  509.71428571,  530.14285714,  550.57142857,\n",
       "        571.        ,  591.42857143,  611.85714286,  632.28571429,\n",
       "        652.71428571,  673.14285714,  693.57142857,  714.        ,\n",
       "        734.42857143,  754.85714286,  775.28571429,  795.71428571,\n",
       "        816.14285714,  836.57142857,  857.        ,  877.42857143,\n",
       "        897.85714286,  918.28571429,  938.71428571,  959.14285714,\n",
       "        979.57142857, 1000.        ])"
      ]
     },
     "execution_count": 132,
     "metadata": {},
     "output_type": "execute_result"
    }
   ],
   "source": [
    "payment_type =Training_model.predict(trip_distance)\n",
    "payment_type"
   ]
  },
  {
   "cell_type": "code",
   "execution_count": 133,
   "id": "7bdbefe2",
   "metadata": {},
   "outputs": [
    {
     "data": {
      "image/png": "[encoded data removed]",
      "text/plain": [
       "<Figure size 432x288 with 1 Axes>"
      ]
     },
     "metadata": {
      "needs_background": "light"
     },
     "output_type": "display_data"
    }
   ],
   "source": [
    "plt.scatter(trip_distance,payment_type);"
   ]
  },
  {
   "cell_type": "code",
   "execution_count": null,
   "id": "c1da50c3",
   "metadata": {},
   "outputs": [],
   "source": [
    "plt.scatter(w,x);\n",
    "plt.scatter(south,college);"
   ]
  },
  {
   "cell_type": "markdown",
   "id": "ec6c4ac2",
   "metadata": {},
   "source": [
    "# QUESTION TWO"
   ]
  },
  {
   "cell_type": "code",
   "execution_count": 29,
   "id": "5b7353de",
   "metadata": {},
   "outputs": [],
   "source": [
    "##Question 2a)\n",
    "##importing the scipy library to find the cdf\n",
    "from scipy.stats import norm"
   ]
  },
  {
   "cell_type": "code",
   "execution_count": 30,
   "id": "aa75bf36",
   "metadata": {},
   "outputs": [
    {
     "data": {
      "text/html": [
       "<div>\n",
       "<style scoped>\n",
       "    .dataframe tbody tr th:only-of-type {\n",
       "        vertical-align: middle;\n",
       "    }\n",
       "\n",
       "    .dataframe tbody tr th {\n",
       "        vertical-align: top;\n",
       "    }\n",
       "\n",
       "    .dataframe thead th {\n",
       "        text-align: right;\n",
       "    }\n",
       "</style>\n",
       "<table border=\"1\" class=\"dataframe\">\n",
       "  <thead>\n",
       "    <tr style=\"text-align: right;\">\n",
       "      <th></th>\n",
       "      <th>VendorID</th>\n",
       "      <th>tpep_pickup_datetime</th>\n",
       "      <th>tpep_dropoff_datetime</th>\n",
       "      <th>passenger_count</th>\n",
       "      <th>trip_distance</th>\n",
       "      <th>RatecodeID</th>\n",
       "      <th>store_and_fwd_flag</th>\n",
       "      <th>PULocationID</th>\n",
       "      <th>DOLocationID</th>\n",
       "      <th>payment_type</th>\n",
       "      <th>fare_amount</th>\n",
       "      <th>extra</th>\n",
       "      <th>mta_tax</th>\n",
       "      <th>tip_amount</th>\n",
       "      <th>tolls_amount</th>\n",
       "      <th>improvement_surcharge</th>\n",
       "      <th>total_amount</th>\n",
       "      <th>congestion_surcharge</th>\n",
       "    </tr>\n",
       "  </thead>\n",
       "  <tbody>\n",
       "    <tr>\n",
       "      <th>0</th>\n",
       "      <td>2</td>\n",
       "      <td>7/15/2019 16:27</td>\n",
       "      <td>7/15/2019 16:44</td>\n",
       "      <td>3</td>\n",
       "      <td>2.02</td>\n",
       "      <td>1</td>\n",
       "      <td>N</td>\n",
       "      <td>186</td>\n",
       "      <td>233</td>\n",
       "      <td>1</td>\n",
       "      <td>12.0</td>\n",
       "      <td>1.0</td>\n",
       "      <td>0.5</td>\n",
       "      <td>4.08</td>\n",
       "      <td>0.0</td>\n",
       "      <td>0.3</td>\n",
       "      <td>20.38</td>\n",
       "      <td>2.5</td>\n",
       "    </tr>\n",
       "    <tr>\n",
       "      <th>1</th>\n",
       "      <td>2</td>\n",
       "      <td>7/17/2019 20:26</td>\n",
       "      <td>7/17/2019 20:40</td>\n",
       "      <td>6</td>\n",
       "      <td>1.59</td>\n",
       "      <td>1</td>\n",
       "      <td>N</td>\n",
       "      <td>141</td>\n",
       "      <td>161</td>\n",
       "      <td>2</td>\n",
       "      <td>10.0</td>\n",
       "      <td>0.5</td>\n",
       "      <td>0.5</td>\n",
       "      <td>0.00</td>\n",
       "      <td>0.0</td>\n",
       "      <td>0.3</td>\n",
       "      <td>13.80</td>\n",
       "      <td>2.5</td>\n",
       "    </tr>\n",
       "    <tr>\n",
       "      <th>2</th>\n",
       "      <td>2</td>\n",
       "      <td>7/6/2019 16:01</td>\n",
       "      <td>7/6/2019 16:10</td>\n",
       "      <td>1</td>\n",
       "      <td>1.69</td>\n",
       "      <td>1</td>\n",
       "      <td>N</td>\n",
       "      <td>246</td>\n",
       "      <td>249</td>\n",
       "      <td>2</td>\n",
       "      <td>8.5</td>\n",
       "      <td>0.0</td>\n",
       "      <td>0.5</td>\n",
       "      <td>0.00</td>\n",
       "      <td>0.0</td>\n",
       "      <td>0.3</td>\n",
       "      <td>11.80</td>\n",
       "      <td>2.5</td>\n",
       "    </tr>\n",
       "    <tr>\n",
       "      <th>3</th>\n",
       "      <td>1</td>\n",
       "      <td>7/18/2019 22:32</td>\n",
       "      <td>7/18/2019 22:35</td>\n",
       "      <td>1</td>\n",
       "      <td>0.90</td>\n",
       "      <td>1</td>\n",
       "      <td>N</td>\n",
       "      <td>229</td>\n",
       "      <td>141</td>\n",
       "      <td>1</td>\n",
       "      <td>4.5</td>\n",
       "      <td>3.0</td>\n",
       "      <td>0.5</td>\n",
       "      <td>1.65</td>\n",
       "      <td>0.0</td>\n",
       "      <td>0.3</td>\n",
       "      <td>9.95</td>\n",
       "      <td>2.5</td>\n",
       "    </tr>\n",
       "    <tr>\n",
       "      <th>4</th>\n",
       "      <td>2</td>\n",
       "      <td>7/19/2019 14:54</td>\n",
       "      <td>7/19/2019 15:19</td>\n",
       "      <td>1</td>\n",
       "      <td>4.79</td>\n",
       "      <td>1</td>\n",
       "      <td>N</td>\n",
       "      <td>237</td>\n",
       "      <td>107</td>\n",
       "      <td>1</td>\n",
       "      <td>19.5</td>\n",
       "      <td>0.0</td>\n",
       "      <td>0.5</td>\n",
       "      <td>5.70</td>\n",
       "      <td>0.0</td>\n",
       "      <td>0.3</td>\n",
       "      <td>28.50</td>\n",
       "      <td>2.5</td>\n",
       "    </tr>\n",
       "    <tr>\n",
       "      <th>...</th>\n",
       "      <td>...</td>\n",
       "      <td>...</td>\n",
       "      <td>...</td>\n",
       "      <td>...</td>\n",
       "      <td>...</td>\n",
       "      <td>...</td>\n",
       "      <td>...</td>\n",
       "      <td>...</td>\n",
       "      <td>...</td>\n",
       "      <td>...</td>\n",
       "      <td>...</td>\n",
       "      <td>...</td>\n",
       "      <td>...</td>\n",
       "      <td>...</td>\n",
       "      <td>...</td>\n",
       "      <td>...</td>\n",
       "      <td>...</td>\n",
       "      <td>...</td>\n",
       "    </tr>\n",
       "    <tr>\n",
       "      <th>195</th>\n",
       "      <td>2</td>\n",
       "      <td>1/18/2019 8:42</td>\n",
       "      <td>1/18/2019 8:56</td>\n",
       "      <td>1</td>\n",
       "      <td>1.18</td>\n",
       "      <td>1</td>\n",
       "      <td>N</td>\n",
       "      <td>43</td>\n",
       "      <td>237</td>\n",
       "      <td>1</td>\n",
       "      <td>10.0</td>\n",
       "      <td>0.0</td>\n",
       "      <td>0.5</td>\n",
       "      <td>2.16</td>\n",
       "      <td>0.0</td>\n",
       "      <td>0.3</td>\n",
       "      <td>12.96</td>\n",
       "      <td>0.0</td>\n",
       "    </tr>\n",
       "    <tr>\n",
       "      <th>196</th>\n",
       "      <td>1</td>\n",
       "      <td>1/19/2019 4:34</td>\n",
       "      <td>1/19/2019 4:43</td>\n",
       "      <td>1</td>\n",
       "      <td>2.30</td>\n",
       "      <td>1</td>\n",
       "      <td>N</td>\n",
       "      <td>148</td>\n",
       "      <td>234</td>\n",
       "      <td>1</td>\n",
       "      <td>9.5</td>\n",
       "      <td>0.5</td>\n",
       "      <td>0.5</td>\n",
       "      <td>2.15</td>\n",
       "      <td>0.0</td>\n",
       "      <td>0.3</td>\n",
       "      <td>12.95</td>\n",
       "      <td>0.0</td>\n",
       "    </tr>\n",
       "    <tr>\n",
       "      <th>197</th>\n",
       "      <td>2</td>\n",
       "      <td>1/5/2019 10:37</td>\n",
       "      <td>1/5/2019 10:42</td>\n",
       "      <td>1</td>\n",
       "      <td>0.83</td>\n",
       "      <td>1</td>\n",
       "      <td>N</td>\n",
       "      <td>237</td>\n",
       "      <td>263</td>\n",
       "      <td>1</td>\n",
       "      <td>5.0</td>\n",
       "      <td>0.0</td>\n",
       "      <td>0.5</td>\n",
       "      <td>1.16</td>\n",
       "      <td>0.0</td>\n",
       "      <td>0.3</td>\n",
       "      <td>6.96</td>\n",
       "      <td>0.0</td>\n",
       "    </tr>\n",
       "    <tr>\n",
       "      <th>198</th>\n",
       "      <td>2</td>\n",
       "      <td>1/23/2019 10:36</td>\n",
       "      <td>1/23/2019 10:44</td>\n",
       "      <td>2</td>\n",
       "      <td>1.12</td>\n",
       "      <td>1</td>\n",
       "      <td>N</td>\n",
       "      <td>144</td>\n",
       "      <td>113</td>\n",
       "      <td>2</td>\n",
       "      <td>7.0</td>\n",
       "      <td>0.0</td>\n",
       "      <td>0.5</td>\n",
       "      <td>0.00</td>\n",
       "      <td>0.0</td>\n",
       "      <td>0.3</td>\n",
       "      <td>7.80</td>\n",
       "      <td>0.0</td>\n",
       "    </tr>\n",
       "    <tr>\n",
       "      <th>199</th>\n",
       "      <td>2</td>\n",
       "      <td>1/30/2019 6:55</td>\n",
       "      <td>1/30/2019 7:07</td>\n",
       "      <td>5</td>\n",
       "      <td>2.41</td>\n",
       "      <td>1</td>\n",
       "      <td>N</td>\n",
       "      <td>209</td>\n",
       "      <td>107</td>\n",
       "      <td>1</td>\n",
       "      <td>10.5</td>\n",
       "      <td>0.0</td>\n",
       "      <td>0.5</td>\n",
       "      <td>1.00</td>\n",
       "      <td>0.0</td>\n",
       "      <td>0.3</td>\n",
       "      <td>12.30</td>\n",
       "      <td>0.0</td>\n",
       "    </tr>\n",
       "  </tbody>\n",
       "</table>\n",
       "<p>200 rows × 18 columns</p>\n",
       "</div>"
      ],
      "text/plain": [
       "     VendorID tpep_pickup_datetime tpep_dropoff_datetime  passenger_count  \\\n",
       "0           2      7/15/2019 16:27       7/15/2019 16:44                3   \n",
       "1           2      7/17/2019 20:26       7/17/2019 20:40                6   \n",
       "2           2       7/6/2019 16:01        7/6/2019 16:10                1   \n",
       "3           1      7/18/2019 22:32       7/18/2019 22:35                1   \n",
       "4           2      7/19/2019 14:54       7/19/2019 15:19                1   \n",
       "..        ...                  ...                   ...              ...   \n",
       "195         2       1/18/2019 8:42        1/18/2019 8:56                1   \n",
       "196         1       1/19/2019 4:34        1/19/2019 4:43                1   \n",
       "197         2       1/5/2019 10:37        1/5/2019 10:42                1   \n",
       "198         2      1/23/2019 10:36       1/23/2019 10:44                2   \n",
       "199         2       1/30/2019 6:55        1/30/2019 7:07                5   \n",
       "\n",
       "     trip_distance  RatecodeID store_and_fwd_flag  PULocationID  DOLocationID  \\\n",
       "0             2.02           1                  N           186           233   \n",
       "1             1.59           1                  N           141           161   \n",
       "2             1.69           1                  N           246           249   \n",
       "3             0.90           1                  N           229           141   \n",
       "4             4.79           1                  N           237           107   \n",
       "..             ...         ...                ...           ...           ...   \n",
       "195           1.18           1                  N            43           237   \n",
       "196           2.30           1                  N           148           234   \n",
       "197           0.83           1                  N           237           263   \n",
       "198           1.12           1                  N           144           113   \n",
       "199           2.41           1                  N           209           107   \n",
       "\n",
       "     payment_type  fare_amount  extra  mta_tax  tip_amount  tolls_amount  \\\n",
       "0               1         12.0    1.0      0.5        4.08           0.0   \n",
       "1               2         10.0    0.5      0.5        0.00           0.0   \n",
       "2               2          8.5    0.0      0.5        0.00           0.0   \n",
       "3               1          4.5    3.0      0.5        1.65           0.0   \n",
       "4               1         19.5    0.0      0.5        5.70           0.0   \n",
       "..            ...          ...    ...      ...         ...           ...   \n",
       "195             1         10.0    0.0      0.5        2.16           0.0   \n",
       "196             1          9.5    0.5      0.5        2.15           0.0   \n",
       "197             1          5.0    0.0      0.5        1.16           0.0   \n",
       "198             2          7.0    0.0      0.5        0.00           0.0   \n",
       "199             1         10.5    0.0      0.5        1.00           0.0   \n",
       "\n",
       "     improvement_surcharge  total_amount  congestion_surcharge  \n",
       "0                      0.3         20.38                   2.5  \n",
       "1                      0.3         13.80                   2.5  \n",
       "2                      0.3         11.80                   2.5  \n",
       "3                      0.3          9.95                   2.5  \n",
       "4                      0.3         28.50                   2.5  \n",
       "..                     ...           ...                   ...  \n",
       "195                    0.3         12.96                   0.0  \n",
       "196                    0.3         12.95                   0.0  \n",
       "197                    0.3          6.96                   0.0  \n",
       "198                    0.3          7.80                   0.0  \n",
       "199                    0.3         12.30                   0.0  \n",
       "\n",
       "[200 rows x 18 columns]"
      ]
     },
     "execution_count": 30,
     "metadata": {},
     "output_type": "execute_result"
    }
   ],
   "source": [
    "##importing the dataset\n",
    "data=pd.read_csv(\"taxi.csv\")\n",
    "data"
   ]
  },
  {
   "cell_type": "code",
   "execution_count": 31,
   "id": "c211cee1",
   "metadata": {},
   "outputs": [
    {
     "data": {
      "text/plain": [
       "Index(['VendorID', 'tpep_pickup_datetime', 'tpep_dropoff_datetime',\n",
       "       'passenger_count', 'trip_distance', 'RatecodeID', 'store_and_fwd_flag',\n",
       "       'PULocationID', 'DOLocationID', 'payment_type', 'fare_amount', 'extra',\n",
       "       'mta_tax', 'tip_amount', 'tolls_amount', 'improvement_surcharge',\n",
       "       'total_amount', 'congestion_surcharge'],\n",
       "      dtype='object')"
      ]
     },
     "execution_count": 31,
     "metadata": {},
     "output_type": "execute_result"
    }
   ],
   "source": [
    "##finding the columns\n",
    "data.columns"
   ]
  },
  {
   "cell_type": "code",
   "execution_count": 32,
   "id": "96b2a029",
   "metadata": {},
   "outputs": [
    {
     "data": {
      "text/plain": [
       "0      20.38\n",
       "1      13.80\n",
       "2      11.80\n",
       "3       9.95\n",
       "4      28.50\n",
       "       ...  \n",
       "195    12.96\n",
       "196    12.95\n",
       "197     6.96\n",
       "198     7.80\n",
       "199    12.30\n",
       "Name: total_amount, Length: 200, dtype: float64"
      ]
     },
     "execution_count": 32,
     "metadata": {},
     "output_type": "execute_result"
    }
   ],
   "source": [
    "v=data.total_amount\n",
    "v"
   ]
  },
  {
   "cell_type": "code",
   "execution_count": 59,
   "id": "c6ee1dbf",
   "metadata": {},
   "outputs": [
    {
     "data": {
      "text/plain": [
       "[<matplotlib.lines.Line2D at 0x2aaede8fa00>]"
      ]
     },
     "execution_count": 59,
     "metadata": {},
     "output_type": "execute_result"
    },
    {
     "data": {
      "image/png": "[encoded data removed]",
      "text/plain": [
       "<Figure size 432x288 with 1 Axes>"
      ]
     },
     "metadata": {
      "needs_background": "light"
     },
     "output_type": "display_data"
    }
   ],
   "source": [
    "plt.plot(v)"
   ]
  },
  {
   "cell_type": "code",
   "execution_count": null,
   "id": "fe1a44da",
   "metadata": {},
   "outputs": [],
   "source": [
    "##the plot shows the variation of the total amount "
   ]
  },
  {
   "cell_type": "code",
   "execution_count": 37,
   "id": "9bedada8",
   "metadata": {},
   "outputs": [
    {
     "data": {
      "text/plain": [
       "20.154350000000022"
      ]
     },
     "execution_count": 37,
     "metadata": {},
     "output_type": "execute_result"
    }
   ],
   "source": [
    "#finding the mean of the variable total_amount\n",
    "v.mean()"
   ]
  },
  {
   "cell_type": "code",
   "execution_count": 38,
   "id": "3d088bcb",
   "metadata": {},
   "outputs": [
    {
     "data": {
      "text/plain": [
       "17.07276866024168"
      ]
     },
     "execution_count": 38,
     "metadata": {},
     "output_type": "execute_result"
    }
   ],
   "source": [
    "#finding the standard deviation of the variable total_amount\n",
    "v.std()"
   ]
  },
  {
   "cell_type": "code",
   "execution_count": 39,
   "id": "768f46a1",
   "metadata": {},
   "outputs": [
    {
     "data": {
      "text/plain": [
       "array([20.        , 19.93877551, 19.87755102, 19.81632653, 19.75510204,\n",
       "       19.69387755, 19.63265306, 19.57142857, 19.51020408, 19.44897959,\n",
       "       19.3877551 , 19.32653061, 19.26530612, 19.20408163, 19.14285714,\n",
       "       19.08163265, 19.02040816, 18.95918367, 18.89795918, 18.83673469,\n",
       "       18.7755102 , 18.71428571, 18.65306122, 18.59183673, 18.53061224,\n",
       "       18.46938776, 18.40816327, 18.34693878, 18.28571429, 18.2244898 ,\n",
       "       18.16326531, 18.10204082, 18.04081633, 17.97959184, 17.91836735,\n",
       "       17.85714286, 17.79591837, 17.73469388, 17.67346939, 17.6122449 ,\n",
       "       17.55102041, 17.48979592, 17.42857143, 17.36734694, 17.30612245,\n",
       "       17.24489796, 17.18367347, 17.12244898, 17.06122449, 17.        ])"
      ]
     },
     "execution_count": 39,
     "metadata": {},
     "output_type": "execute_result"
    }
   ],
   "source": [
    "##defining the array from the std and mean\n",
    "x=np.linspace(20,17)\n",
    "x"
   ]
  },
  {
   "cell_type": "code",
   "execution_count": 50,
   "id": "389f50d1",
   "metadata": {},
   "outputs": [
    {
     "data": {
      "text/plain": [
       "array([1., 1., 1., 1., 1., 1., 1., 1., 1., 1., 1., 1., 1., 1., 1., 1., 1.,\n",
       "       1., 1., 1., 1., 1., 1., 1., 1., 1., 1., 1., 1., 1., 1., 1., 1., 1.,\n",
       "       1., 1., 1., 1., 1., 1., 1., 1., 1., 1., 1., 1., 1., 1., 1., 1.])"
      ]
     },
     "execution_count": 50,
     "metadata": {},
     "output_type": "execute_result"
    }
   ],
   "source": [
    "#define x and y values to use for CDF from the array\n",
    "##using the scipy library as ss\n",
    "x = np.linspace(18, 17)\n",
    "y = ss.norm.cdf(x)\n",
    "y"
   ]
  },
  {
   "cell_type": "code",
   "execution_count": 57,
   "id": "8735ed0c",
   "metadata": {},
   "outputs": [
    {
     "data": {
      "text/plain": [
       "Text(0, 0.5, 'CDF')"
      ]
     },
     "execution_count": 57,
     "metadata": {},
     "output_type": "execute_result"
    },
    {
     "data": {
      "image/png": "[encoded data removed]",
      "text/plain": [
       "<Figure size 432x288 with 1 Axes>"
      ]
     },
     "metadata": {
      "needs_background": "light"
     },
     "output_type": "display_data"
    }
   ],
   "source": [
    "#ploting the  normal CDF with a gray line\n",
    "plt.plot(x, y, color='gray')\n",
    "plt.title('Normal CDF')\n",
    "plt.xlabel('x')\n",
    "plt.ylabel('CDF')\n"
   ]
  },
  {
   "cell_type": "code",
   "execution_count": null,
   "id": "7db4820d",
   "metadata": {},
   "outputs": [],
   "source": [
    "The x-axis shows the values of the variable that follows \n",
    "a standard normal distribution and the y-axis shows the \n",
    "probability of the cdf that follows the normal distribution"
   ]
  },
  {
   "cell_type": "markdown",
   "id": "0d2fc389",
   "metadata": {},
   "source": [
    "# QUESTION ONE"
   ]
  },
  {
   "cell_type": "code",
   "execution_count": 60,
   "id": "642523b5",
   "metadata": {},
   "outputs": [
    {
     "data": {
      "text/html": [
       "<div>\n",
       "<style scoped>\n",
       "    .dataframe tbody tr th:only-of-type {\n",
       "        vertical-align: middle;\n",
       "    }\n",
       "\n",
       "    .dataframe tbody tr th {\n",
       "        vertical-align: top;\n",
       "    }\n",
       "\n",
       "    .dataframe thead th {\n",
       "        text-align: right;\n",
       "    }\n",
       "</style>\n",
       "<table border=\"1\" class=\"dataframe\">\n",
       "  <thead>\n",
       "    <tr style=\"text-align: right;\">\n",
       "      <th></th>\n",
       "      <th>Country Code</th>\n",
       "      <th>TableName</th>\n",
       "      <th>IncomeGroup</th>\n",
       "      <th>PopDensity_2018</th>\n",
       "      <th>Confirmed Cases</th>\n",
       "      <th>Deaths</th>\n",
       "      <th>Mortality Rate</th>\n",
       "      <th>Population_2019</th>\n",
       "      <th>GDP_2019</th>\n",
       "      <th>GDP_per_cap_2019</th>\n",
       "      <th>Main Leader Gender</th>\n",
       "      <th>Any Leader Gender</th>\n",
       "      <th>Avg Temp</th>\n",
       "      <th>Normalized Cases</th>\n",
       "      <th>Normalized Deaths</th>\n",
       "    </tr>\n",
       "  </thead>\n",
       "  <tbody>\n",
       "    <tr>\n",
       "      <th>0</th>\n",
       "      <td>AFG</td>\n",
       "      <td>Afghanistan</td>\n",
       "      <td>Low income</td>\n",
       "      <td>56.937760</td>\n",
       "      <td>39192</td>\n",
       "      <td>1453</td>\n",
       "      <td>3.707389</td>\n",
       "      <td>38041754</td>\n",
       "      <td>1.910135e+10</td>\n",
       "      <td>2293.551684</td>\n",
       "      <td>M</td>\n",
       "      <td>M</td>\n",
       "      <td>12.60</td>\n",
       "      <td>0.001030</td>\n",
       "      <td>3.820000e-05</td>\n",
       "    </tr>\n",
       "    <tr>\n",
       "      <th>1</th>\n",
       "      <td>AGO</td>\n",
       "      <td>Angola</td>\n",
       "      <td>Lower middle income</td>\n",
       "      <td>24.713052</td>\n",
       "      <td>4672</td>\n",
       "      <td>171</td>\n",
       "      <td>3.660103</td>\n",
       "      <td>31825295</td>\n",
       "      <td>9.463542e+10</td>\n",
       "      <td>6929.678158</td>\n",
       "      <td>M</td>\n",
       "      <td>M</td>\n",
       "      <td>21.55</td>\n",
       "      <td>0.000147</td>\n",
       "      <td>5.370000e-06</td>\n",
       "    </tr>\n",
       "    <tr>\n",
       "      <th>2</th>\n",
       "      <td>ALB</td>\n",
       "      <td>Albania</td>\n",
       "      <td>Upper middle income</td>\n",
       "      <td>104.612263</td>\n",
       "      <td>13153</td>\n",
       "      <td>375</td>\n",
       "      <td>2.851061</td>\n",
       "      <td>2854191</td>\n",
       "      <td>1.527808e+10</td>\n",
       "      <td>14495.078510</td>\n",
       "      <td>M</td>\n",
       "      <td>M</td>\n",
       "      <td>11.40</td>\n",
       "      <td>0.004608</td>\n",
       "      <td>1.313860e-04</td>\n",
       "    </tr>\n",
       "    <tr>\n",
       "      <th>3</th>\n",
       "      <td>AND</td>\n",
       "      <td>Andorra</td>\n",
       "      <td>High income</td>\n",
       "      <td>163.842553</td>\n",
       "      <td>1836</td>\n",
       "      <td>53</td>\n",
       "      <td>2.886710</td>\n",
       "      <td>77142</td>\n",
       "      <td>3.154058e+09</td>\n",
       "      <td>NaN</td>\n",
       "      <td>M</td>\n",
       "      <td>M</td>\n",
       "      <td>7.60</td>\n",
       "      <td>0.023800</td>\n",
       "      <td>6.870450e-04</td>\n",
       "    </tr>\n",
       "    <tr>\n",
       "      <th>4</th>\n",
       "      <td>ARE</td>\n",
       "      <td>United Arab Emirates</td>\n",
       "      <td>High income</td>\n",
       "      <td>135.609110</td>\n",
       "      <td>90618</td>\n",
       "      <td>411</td>\n",
       "      <td>0.453552</td>\n",
       "      <td>9770529</td>\n",
       "      <td>4.211420e+11</td>\n",
       "      <td>69900.877850</td>\n",
       "      <td>M</td>\n",
       "      <td>M</td>\n",
       "      <td>27.00</td>\n",
       "      <td>0.009275</td>\n",
       "      <td>4.210000e-05</td>\n",
       "    </tr>\n",
       "    <tr>\n",
       "      <th>...</th>\n",
       "      <td>...</td>\n",
       "      <td>...</td>\n",
       "      <td>...</td>\n",
       "      <td>...</td>\n",
       "      <td>...</td>\n",
       "      <td>...</td>\n",
       "      <td>...</td>\n",
       "      <td>...</td>\n",
       "      <td>...</td>\n",
       "      <td>...</td>\n",
       "      <td>...</td>\n",
       "      <td>...</td>\n",
       "      <td>...</td>\n",
       "      <td>...</td>\n",
       "      <td>...</td>\n",
       "    </tr>\n",
       "    <tr>\n",
       "      <th>177</th>\n",
       "      <td>VNM</td>\n",
       "      <td>Vietnam</td>\n",
       "      <td>Lower middle income</td>\n",
       "      <td>308.125246</td>\n",
       "      <td>1069</td>\n",
       "      <td>35</td>\n",
       "      <td>3.274088</td>\n",
       "      <td>96462106</td>\n",
       "      <td>2.619210e+11</td>\n",
       "      <td>8374.444328</td>\n",
       "      <td>M</td>\n",
       "      <td>M</td>\n",
       "      <td>24.45</td>\n",
       "      <td>0.000011</td>\n",
       "      <td>3.630000e-07</td>\n",
       "    </tr>\n",
       "    <tr>\n",
       "      <th>178</th>\n",
       "      <td>YEM</td>\n",
       "      <td>Yemen, Rep.</td>\n",
       "      <td>Low income</td>\n",
       "      <td>53.977853</td>\n",
       "      <td>2030</td>\n",
       "      <td>587</td>\n",
       "      <td>28.916256</td>\n",
       "      <td>29161922</td>\n",
       "      <td>NaN</td>\n",
       "      <td>NaN</td>\n",
       "      <td>M</td>\n",
       "      <td>M</td>\n",
       "      <td>23.85</td>\n",
       "      <td>0.000070</td>\n",
       "      <td>2.010000e-05</td>\n",
       "    </tr>\n",
       "    <tr>\n",
       "      <th>179</th>\n",
       "      <td>ZAF</td>\n",
       "      <td>South Africa</td>\n",
       "      <td>Upper middle income</td>\n",
       "      <td>47.630120</td>\n",
       "      <td>669498</td>\n",
       "      <td>16376</td>\n",
       "      <td>2.446012</td>\n",
       "      <td>58558270</td>\n",
       "      <td>3.514320e+11</td>\n",
       "      <td>12999.120260</td>\n",
       "      <td>M</td>\n",
       "      <td>M</td>\n",
       "      <td>17.75</td>\n",
       "      <td>0.011433</td>\n",
       "      <td>2.796530e-04</td>\n",
       "    </tr>\n",
       "    <tr>\n",
       "      <th>180</th>\n",
       "      <td>ZMB</td>\n",
       "      <td>Zambia</td>\n",
       "      <td>Lower middle income</td>\n",
       "      <td>23.341479</td>\n",
       "      <td>14612</td>\n",
       "      <td>332</td>\n",
       "      <td>2.272105</td>\n",
       "      <td>17861030</td>\n",
       "      <td>2.306472e+10</td>\n",
       "      <td>3623.699395</td>\n",
       "      <td>M</td>\n",
       "      <td>M</td>\n",
       "      <td>21.40</td>\n",
       "      <td>0.000818</td>\n",
       "      <td>1.860000e-05</td>\n",
       "    </tr>\n",
       "    <tr>\n",
       "      <th>181</th>\n",
       "      <td>ZWE</td>\n",
       "      <td>Zimbabwe</td>\n",
       "      <td>Lower middle income</td>\n",
       "      <td>37.324591</td>\n",
       "      <td>7803</td>\n",
       "      <td>227</td>\n",
       "      <td>2.909138</td>\n",
       "      <td>14645468</td>\n",
       "      <td>2.144076e+10</td>\n",
       "      <td>2953.484113</td>\n",
       "      <td>M</td>\n",
       "      <td>M</td>\n",
       "      <td>21.00</td>\n",
       "      <td>0.000533</td>\n",
       "      <td>1.550000e-05</td>\n",
       "    </tr>\n",
       "  </tbody>\n",
       "</table>\n",
       "<p>182 rows × 15 columns</p>\n",
       "</div>"
      ],
      "text/plain": [
       "    Country Code             TableName          IncomeGroup  PopDensity_2018  \\\n",
       "0            AFG           Afghanistan           Low income        56.937760   \n",
       "1            AGO                Angola  Lower middle income        24.713052   \n",
       "2            ALB               Albania  Upper middle income       104.612263   \n",
       "3            AND               Andorra          High income       163.842553   \n",
       "4            ARE  United Arab Emirates          High income       135.609110   \n",
       "..           ...                   ...                  ...              ...   \n",
       "177          VNM               Vietnam  Lower middle income       308.125246   \n",
       "178          YEM           Yemen, Rep.           Low income        53.977853   \n",
       "179          ZAF          South Africa  Upper middle income        47.630120   \n",
       "180          ZMB                Zambia  Lower middle income        23.341479   \n",
       "181          ZWE              Zimbabwe  Lower middle income        37.324591   \n",
       "\n",
       "     Confirmed Cases  Deaths  Mortality Rate  Population_2019      GDP_2019  \\\n",
       "0              39192    1453        3.707389         38041754  1.910135e+10   \n",
       "1               4672     171        3.660103         31825295  9.463542e+10   \n",
       "2              13153     375        2.851061          2854191  1.527808e+10   \n",
       "3               1836      53        2.886710            77142  3.154058e+09   \n",
       "4              90618     411        0.453552          9770529  4.211420e+11   \n",
       "..               ...     ...             ...              ...           ...   \n",
       "177             1069      35        3.274088         96462106  2.619210e+11   \n",
       "178             2030     587       28.916256         29161922           NaN   \n",
       "179           669498   16376        2.446012         58558270  3.514320e+11   \n",
       "180            14612     332        2.272105         17861030  2.306472e+10   \n",
       "181             7803     227        2.909138         14645468  2.144076e+10   \n",
       "\n",
       "     GDP_per_cap_2019 Main Leader Gender Any Leader Gender  Avg Temp  \\\n",
       "0         2293.551684                  M                 M     12.60   \n",
       "1         6929.678158                  M                 M     21.55   \n",
       "2        14495.078510                  M                 M     11.40   \n",
       "3                 NaN                  M                 M      7.60   \n",
       "4        69900.877850                  M                 M     27.00   \n",
       "..                ...                ...               ...       ...   \n",
       "177       8374.444328                  M                 M     24.45   \n",
       "178               NaN                  M                 M     23.85   \n",
       "179      12999.120260                  M                 M     17.75   \n",
       "180       3623.699395                  M                 M     21.40   \n",
       "181       2953.484113                  M                 M     21.00   \n",
       "\n",
       "     Normalized Cases  Normalized Deaths  \n",
       "0            0.001030       3.820000e-05  \n",
       "1            0.000147       5.370000e-06  \n",
       "2            0.004608       1.313860e-04  \n",
       "3            0.023800       6.870450e-04  \n",
       "4            0.009275       4.210000e-05  \n",
       "..                ...                ...  \n",
       "177          0.000011       3.630000e-07  \n",
       "178          0.000070       2.010000e-05  \n",
       "179          0.011433       2.796530e-04  \n",
       "180          0.000818       1.860000e-05  \n",
       "181          0.000533       1.550000e-05  \n",
       "\n",
       "[182 rows x 15 columns]"
      ]
     },
     "execution_count": 60,
     "metadata": {},
     "output_type": "execute_result"
    }
   ],
   "source": [
    "#Importing the exam dataset\n",
    "Dataframe=pd.read_csv(\"exam1.csv\")\n",
    "Dataframe"
   ]
  },
  {
   "cell_type": "code",
   "execution_count": 61,
   "id": "9dc6aa01",
   "metadata": {},
   "outputs": [
    {
     "data": {
      "text/plain": [
       "Index(['Country Code', 'TableName', 'IncomeGroup', 'PopDensity_2018',\n",
       "       'Confirmed Cases', 'Deaths', 'Mortality Rate', 'Population_2019',\n",
       "       'GDP_2019', 'GDP_per_cap_2019', 'Main Leader Gender',\n",
       "       'Any Leader Gender', 'Avg Temp', 'Normalized Cases',\n",
       "       'Normalized Deaths'],\n",
       "      dtype='object')"
      ]
     },
     "execution_count": 61,
     "metadata": {},
     "output_type": "execute_result"
    }
   ],
   "source": [
    "Dataframe.columns"
   ]
  },
  {
   "cell_type": "code",
   "execution_count": 62,
   "id": "27a069e4",
   "metadata": {},
   "outputs": [
    {
     "data": {
      "text/html": [
       "<div>\n",
       "<style scoped>\n",
       "    .dataframe tbody tr th:only-of-type {\n",
       "        vertical-align: middle;\n",
       "    }\n",
       "\n",
       "    .dataframe tbody tr th {\n",
       "        vertical-align: top;\n",
       "    }\n",
       "\n",
       "    .dataframe thead th {\n",
       "        text-align: right;\n",
       "    }\n",
       "</style>\n",
       "<table border=\"1\" class=\"dataframe\">\n",
       "  <thead>\n",
       "    <tr style=\"text-align: right;\">\n",
       "      <th></th>\n",
       "      <th>PopDensity_2018</th>\n",
       "      <th>Confirmed Cases</th>\n",
       "      <th>Deaths</th>\n",
       "      <th>Mortality Rate</th>\n",
       "      <th>Population_2019</th>\n",
       "      <th>GDP_2019</th>\n",
       "      <th>GDP_per_cap_2019</th>\n",
       "      <th>Avg Temp</th>\n",
       "      <th>Normalized Cases</th>\n",
       "      <th>Normalized Deaths</th>\n",
       "    </tr>\n",
       "  </thead>\n",
       "  <tbody>\n",
       "    <tr>\n",
       "      <th>count</th>\n",
       "      <td>178.000000</td>\n",
       "      <td>1.820000e+02</td>\n",
       "      <td>182.000000</td>\n",
       "      <td>182.000000</td>\n",
       "      <td>1.820000e+02</td>\n",
       "      <td>1.690000e+02</td>\n",
       "      <td>168.000000</td>\n",
       "      <td>179.000000</td>\n",
       "      <td>182.000000</td>\n",
       "      <td>182.000000</td>\n",
       "    </tr>\n",
       "    <tr>\n",
       "      <th>mean</th>\n",
       "      <td>209.578681</td>\n",
       "      <td>1.798681e+05</td>\n",
       "      <td>5453.186813</td>\n",
       "      <td>2.552053</td>\n",
       "      <td>4.176762e+07</td>\n",
       "      <td>5.037484e+11</td>\n",
       "      <td>22175.663497</td>\n",
       "      <td>18.511117</td>\n",
       "      <td>0.005142</td>\n",
       "      <td>0.000126</td>\n",
       "    </tr>\n",
       "    <tr>\n",
       "      <th>std</th>\n",
       "      <td>642.276577</td>\n",
       "      <td>7.728216e+05</td>\n",
       "      <td>21079.533796</td>\n",
       "      <td>2.807438</td>\n",
       "      <td>1.494774e+08</td>\n",
       "      <td>2.060972e+12</td>\n",
       "      <td>22028.464791</td>\n",
       "      <td>8.179984</td>\n",
       "      <td>0.007289</td>\n",
       "      <td>0.000208</td>\n",
       "    </tr>\n",
       "    <tr>\n",
       "      <th>min</th>\n",
       "      <td>2.040609</td>\n",
       "      <td>1.900000e+01</td>\n",
       "      <td>0.000000</td>\n",
       "      <td>0.000000</td>\n",
       "      <td>3.386000e+04</td>\n",
       "      <td>4.290166e+08</td>\n",
       "      <td>782.816589</td>\n",
       "      <td>-5.100000</td>\n",
       "      <td>0.000003</td>\n",
       "      <td>0.000000</td>\n",
       "    </tr>\n",
       "    <tr>\n",
       "      <th>25%</th>\n",
       "      <td>37.143092</td>\n",
       "      <td>2.930250e+03</td>\n",
       "      <td>50.000000</td>\n",
       "      <td>1.063698</td>\n",
       "      <td>2.689939e+06</td>\n",
       "      <td>1.282700e+10</td>\n",
       "      <td>5398.131919</td>\n",
       "      <td>10.625000</td>\n",
       "      <td>0.000540</td>\n",
       "      <td>0.000008</td>\n",
       "    </tr>\n",
       "    <tr>\n",
       "      <th>50%</th>\n",
       "      <td>83.949492</td>\n",
       "      <td>1.337950e+04</td>\n",
       "      <td>228.000000</td>\n",
       "      <td>2.004451</td>\n",
       "      <td>9.758033e+06</td>\n",
       "      <td>4.731962e+10</td>\n",
       "      <td>14747.947505</td>\n",
       "      <td>21.850000</td>\n",
       "      <td>0.002313</td>\n",
       "      <td>0.000038</td>\n",
       "    </tr>\n",
       "    <tr>\n",
       "      <th>75%</th>\n",
       "      <td>204.487818</td>\n",
       "      <td>7.642675e+04</td>\n",
       "      <td>1450.000000</td>\n",
       "      <td>3.071983</td>\n",
       "      <td>3.040490e+07</td>\n",
       "      <td>2.619210e+11</td>\n",
       "      <td>32413.601215</td>\n",
       "      <td>25.325000</td>\n",
       "      <td>0.006527</td>\n",
       "      <td>0.000135</td>\n",
       "    </tr>\n",
       "    <tr>\n",
       "      <th>max</th>\n",
       "      <td>7952.998418</td>\n",
       "      <td>7.078039e+06</td>\n",
       "      <td>204486.000000</td>\n",
       "      <td>28.916256</td>\n",
       "      <td>1.397715e+09</td>\n",
       "      <td>2.137440e+13</td>\n",
       "      <td>121292.739300</td>\n",
       "      <td>28.290000</td>\n",
       "      <td>0.044084</td>\n",
       "      <td>0.001240</td>\n",
       "    </tr>\n",
       "  </tbody>\n",
       "</table>\n",
       "</div>"
      ],
      "text/plain": [
       "       PopDensity_2018  Confirmed Cases         Deaths  Mortality Rate  \\\n",
       "count       178.000000     1.820000e+02     182.000000      182.000000   \n",
       "mean        209.578681     1.798681e+05    5453.186813        2.552053   \n",
       "std         642.276577     7.728216e+05   21079.533796        2.807438   \n",
       "min           2.040609     1.900000e+01       0.000000        0.000000   \n",
       "25%          37.143092     2.930250e+03      50.000000        1.063698   \n",
       "50%          83.949492     1.337950e+04     228.000000        2.004451   \n",
       "75%         204.487818     7.642675e+04    1450.000000        3.071983   \n",
       "max        7952.998418     7.078039e+06  204486.000000       28.916256   \n",
       "\n",
       "       Population_2019      GDP_2019  GDP_per_cap_2019    Avg Temp  \\\n",
       "count     1.820000e+02  1.690000e+02        168.000000  179.000000   \n",
       "mean      4.176762e+07  5.037484e+11      22175.663497   18.511117   \n",
       "std       1.494774e+08  2.060972e+12      22028.464791    8.179984   \n",
       "min       3.386000e+04  4.290166e+08        782.816589   -5.100000   \n",
       "25%       2.689939e+06  1.282700e+10       5398.131919   10.625000   \n",
       "50%       9.758033e+06  4.731962e+10      14747.947505   21.850000   \n",
       "75%       3.040490e+07  2.619210e+11      32413.601215   25.325000   \n",
       "max       1.397715e+09  2.137440e+13     121292.739300   28.290000   \n",
       "\n",
       "       Normalized Cases  Normalized Deaths  \n",
       "count        182.000000         182.000000  \n",
       "mean           0.005142           0.000126  \n",
       "std            0.007289           0.000208  \n",
       "min            0.000003           0.000000  \n",
       "25%            0.000540           0.000008  \n",
       "50%            0.002313           0.000038  \n",
       "75%            0.006527           0.000135  \n",
       "max            0.044084           0.001240  "
      ]
     },
     "execution_count": 62,
     "metadata": {},
     "output_type": "execute_result"
    }
   ],
   "source": [
    "##finding the descripive statistics of the dataset\n",
    "##desciptive Statistics means describing the dataset\n",
    "Dataframe.describe()"
   ]
  },
  {
   "cell_type": "code",
   "execution_count": null,
   "id": "531ec220",
   "metadata": {},
   "outputs": [],
   "source": [
    "#the description gives the count,mean,standard deviation,\n",
    "#minimum and maximum values in the dataset"
   ]
  },
  {
   "cell_type": "markdown",
   "id": "d1b3d7f7",
   "metadata": {},
   "source": [
    "## question one b)"
   ]
  },
  {
   "cell_type": "code",
   "execution_count": 69,
   "id": "b7ddbfcd",
   "metadata": {},
   "outputs": [
    {
     "data": {
      "text/html": [
       "<div>\n",
       "<style scoped>\n",
       "    .dataframe tbody tr th:only-of-type {\n",
       "        vertical-align: middle;\n",
       "    }\n",
       "\n",
       "    .dataframe tbody tr th {\n",
       "        vertical-align: top;\n",
       "    }\n",
       "\n",
       "    .dataframe thead th {\n",
       "        text-align: right;\n",
       "    }\n",
       "</style>\n",
       "<table border=\"1\" class=\"dataframe\">\n",
       "  <thead>\n",
       "    <tr style=\"text-align: right;\">\n",
       "      <th></th>\n",
       "      <th>Country Code</th>\n",
       "      <th>TableName</th>\n",
       "      <th>IncomeGroup</th>\n",
       "      <th>PopDensity_2018</th>\n",
       "      <th>Confirmed Cases</th>\n",
       "      <th>Deaths</th>\n",
       "      <th>Mortality Rate</th>\n",
       "      <th>Population_2019</th>\n",
       "      <th>GDP_2019</th>\n",
       "      <th>GDP_per_cap_2019</th>\n",
       "      <th>Main Leader Gender</th>\n",
       "      <th>Any Leader Gender</th>\n",
       "      <th>Avg Temp</th>\n",
       "      <th>Normalized Cases</th>\n",
       "      <th>Normalized Deaths</th>\n",
       "    </tr>\n",
       "  </thead>\n",
       "  <tbody>\n",
       "    <tr>\n",
       "      <th>0</th>\n",
       "      <td>AFG</td>\n",
       "      <td>Afghanistan</td>\n",
       "      <td>Low income</td>\n",
       "      <td>56.937760</td>\n",
       "      <td>39192</td>\n",
       "      <td>1453</td>\n",
       "      <td>3.707389</td>\n",
       "      <td>38041754</td>\n",
       "      <td>1.910135e+10</td>\n",
       "      <td>2293.551684</td>\n",
       "      <td>M</td>\n",
       "      <td>M</td>\n",
       "      <td>12.60</td>\n",
       "      <td>0.001030</td>\n",
       "      <td>0.000038</td>\n",
       "    </tr>\n",
       "    <tr>\n",
       "      <th>1</th>\n",
       "      <td>AGO</td>\n",
       "      <td>Angola</td>\n",
       "      <td>Lower middle income</td>\n",
       "      <td>24.713052</td>\n",
       "      <td>4672</td>\n",
       "      <td>171</td>\n",
       "      <td>3.660103</td>\n",
       "      <td>31825295</td>\n",
       "      <td>9.463542e+10</td>\n",
       "      <td>6929.678158</td>\n",
       "      <td>M</td>\n",
       "      <td>M</td>\n",
       "      <td>21.55</td>\n",
       "      <td>0.000147</td>\n",
       "      <td>0.000005</td>\n",
       "    </tr>\n",
       "    <tr>\n",
       "      <th>2</th>\n",
       "      <td>ALB</td>\n",
       "      <td>Albania</td>\n",
       "      <td>Upper middle income</td>\n",
       "      <td>104.612263</td>\n",
       "      <td>13153</td>\n",
       "      <td>375</td>\n",
       "      <td>2.851061</td>\n",
       "      <td>2854191</td>\n",
       "      <td>1.527808e+10</td>\n",
       "      <td>14495.078510</td>\n",
       "      <td>M</td>\n",
       "      <td>M</td>\n",
       "      <td>11.40</td>\n",
       "      <td>0.004608</td>\n",
       "      <td>0.000131</td>\n",
       "    </tr>\n",
       "    <tr>\n",
       "      <th>3</th>\n",
       "      <td>AND</td>\n",
       "      <td>Andorra</td>\n",
       "      <td>High income</td>\n",
       "      <td>163.842553</td>\n",
       "      <td>1836</td>\n",
       "      <td>53</td>\n",
       "      <td>2.886710</td>\n",
       "      <td>77142</td>\n",
       "      <td>3.154058e+09</td>\n",
       "      <td>NaN</td>\n",
       "      <td>M</td>\n",
       "      <td>M</td>\n",
       "      <td>7.60</td>\n",
       "      <td>0.023800</td>\n",
       "      <td>0.000687</td>\n",
       "    </tr>\n",
       "    <tr>\n",
       "      <th>4</th>\n",
       "      <td>ARE</td>\n",
       "      <td>United Arab Emirates</td>\n",
       "      <td>High income</td>\n",
       "      <td>135.609110</td>\n",
       "      <td>90618</td>\n",
       "      <td>411</td>\n",
       "      <td>0.453552</td>\n",
       "      <td>9770529</td>\n",
       "      <td>4.211420e+11</td>\n",
       "      <td>69900.877850</td>\n",
       "      <td>M</td>\n",
       "      <td>M</td>\n",
       "      <td>27.00</td>\n",
       "      <td>0.009275</td>\n",
       "      <td>0.000042</td>\n",
       "    </tr>\n",
       "  </tbody>\n",
       "</table>\n",
       "</div>"
      ],
      "text/plain": [
       "  Country Code             TableName          IncomeGroup  PopDensity_2018  \\\n",
       "0          AFG           Afghanistan           Low income        56.937760   \n",
       "1          AGO                Angola  Lower middle income        24.713052   \n",
       "2          ALB               Albania  Upper middle income       104.612263   \n",
       "3          AND               Andorra          High income       163.842553   \n",
       "4          ARE  United Arab Emirates          High income       135.609110   \n",
       "\n",
       "   Confirmed Cases  Deaths  Mortality Rate  Population_2019      GDP_2019  \\\n",
       "0            39192    1453        3.707389         38041754  1.910135e+10   \n",
       "1             4672     171        3.660103         31825295  9.463542e+10   \n",
       "2            13153     375        2.851061          2854191  1.527808e+10   \n",
       "3             1836      53        2.886710            77142  3.154058e+09   \n",
       "4            90618     411        0.453552          9770529  4.211420e+11   \n",
       "\n",
       "   GDP_per_cap_2019 Main Leader Gender Any Leader Gender  Avg Temp  \\\n",
       "0       2293.551684                  M                 M     12.60   \n",
       "1       6929.678158                  M                 M     21.55   \n",
       "2      14495.078510                  M                 M     11.40   \n",
       "3               NaN                  M                 M      7.60   \n",
       "4      69900.877850                  M                 M     27.00   \n",
       "\n",
       "   Normalized Cases  Normalized Deaths  \n",
       "0          0.001030           0.000038  \n",
       "1          0.000147           0.000005  \n",
       "2          0.004608           0.000131  \n",
       "3          0.023800           0.000687  \n",
       "4          0.009275           0.000042  "
      ]
     },
     "execution_count": 69,
     "metadata": {},
     "output_type": "execute_result"
    }
   ],
   "source": [
    "Dataframe.head()"
   ]
  },
  {
   "cell_type": "code",
   "execution_count": 109,
   "id": "9f52bfb8",
   "metadata": {},
   "outputs": [
    {
     "data": {
      "text/plain": [
       "0       39192\n",
       "1        4672\n",
       "2       13153\n",
       "3        1836\n",
       "4       90618\n",
       "        ...  \n",
       "177      1069\n",
       "178      2030\n",
       "179    669498\n",
       "180     14612\n",
       "181      7803\n",
       "Name: Confirmed Cases, Length: 182, dtype: int64"
      ]
     },
     "execution_count": 109,
     "metadata": {},
     "output_type": "execute_result"
    }
   ],
   "source": [
    "x=Dataframe.loc[:,\"Confirmed Cases\"]\n",
    "x"
   ]
  },
  {
   "cell_type": "code",
   "execution_count": 117,
   "id": "c8730bfb",
   "metadata": {},
   "outputs": [
    {
     "data": {
      "text/plain": [
       "0      1.910135e+10\n",
       "1      9.463542e+10\n",
       "2      1.527808e+10\n",
       "3      3.154058e+09\n",
       "4      4.211420e+11\n",
       "           ...     \n",
       "177    2.619210e+11\n",
       "178             NaN\n",
       "179    3.514320e+11\n",
       "180    2.306472e+10\n",
       "181    2.144076e+10\n",
       "Name: GDP_2019, Length: 182, dtype: float64"
      ]
     },
     "execution_count": 117,
     "metadata": {},
     "output_type": "execute_result"
    }
   ],
   "source": [
    "y=Dataframe.loc[:,\"GDP_2019\"]\n",
    "y"
   ]
  },
  {
   "cell_type": "code",
   "execution_count": 118,
   "id": "7aeab9e8",
   "metadata": {},
   "outputs": [],
   "source": [
    "#preparing the data\n",
    "x = Dataframe.iloc[:, :-1].values \n",
    "\n",
    "y = Dataframe.iloc[:, 1].values "
   ]
  },
  {
   "cell_type": "code",
   "execution_count": 119,
   "id": "6711add0",
   "metadata": {},
   "outputs": [],
   "source": [
    "#splitting the dataset\n",
    "from sklearn.model_selection import train_test_split \n",
    "\n",
    "x_train, x_test, y_train, y_test = train_test_split(x, y, test_size=0.2, random_state=0) \n"
   ]
  },
  {
   "cell_type": "code",
   "execution_count": null,
   "id": "6d785127",
   "metadata": {},
   "outputs": [],
   "source": []
  }
 ],
 "metadata": {
  "kernelspec": {
   "display_name": "Python 3 (ipykernel)",
   "language": "python",
   "name": "python3"
  },
  "language_info": {
   "codemirror_mode": {
    "name": "ipython",
    "version": 3
   },
   "file_extension": ".py",
   "mimetype": "text/x-python",
   "name": "python",
   "nbconvert_exporter": "python",
   "pygments_lexer": "ipython3",
   "version": "3.9.12"
  }
 },
 "nbformat": 4,
 "nbformat_minor": 5
}
